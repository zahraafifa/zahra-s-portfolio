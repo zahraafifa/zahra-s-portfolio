{
 "cells": [
  {
   "cell_type": "markdown",
   "metadata": {},
   "source": [
    "# Analisis Data Ride Sharing Zuber\n"
   ]
  },
  {
   "cell_type": "markdown",
   "metadata": {},
   "source": [
    "# Pendahuluan\n",
    "\n",
    "Tujuan dari analisis ini untuk menemukan pola pada informasi yang tersedia untuk memahami preferensi penumpang dan dampak faktor eksternal terhadap perjalanan. Kita akan mempelajari basis data, menganalisis data dari kompetitor, dan menguji hipotesis tentang pengaruh cuaca terhadap frekuensi perjalanan."
   ]
  },
  {
   "cell_type": "markdown",
   "metadata": {},
   "source": [
    "# Ikthisar Data"
   ]
  },
  {
   "cell_type": "code",
   "execution_count": 1,
   "metadata": {},
   "outputs": [],
   "source": [
    "#memuat semua library\n",
    "import pandas as pd\n",
    "import seaborn as sns\n",
    "import matplotlib.pyplot as plt\n",
    "import numpy as np\n",
    "from scipy import stats as st"
   ]
  },
  {
   "cell_type": "code",
   "execution_count": 2,
   "metadata": {},
   "outputs": [],
   "source": [
    "#memuat data\n",
    "trip_company = pd.read_csv('/datasets/project_sql_result_01.csv')\n",
    "trip_end = pd.read_csv('/datasets/project_sql_result_04.csv')\n",
    "trip_loop = pd.read_csv('/datasets/project_sql_result_07.csv')\n"
   ]
  },
  {
   "cell_type": "code",
   "execution_count": 3,
   "metadata": {},
   "outputs": [
    {
     "data": {
      "text/html": [
       "<div>\n",
       "<style scoped>\n",
       "    .dataframe tbody tr th:only-of-type {\n",
       "        vertical-align: middle;\n",
       "    }\n",
       "\n",
       "    .dataframe tbody tr th {\n",
       "        vertical-align: top;\n",
       "    }\n",
       "\n",
       "    .dataframe thead th {\n",
       "        text-align: right;\n",
       "    }\n",
       "</style>\n",
       "<table border=\"1\" class=\"dataframe\">\n",
       "  <thead>\n",
       "    <tr style=\"text-align: right;\">\n",
       "      <th></th>\n",
       "      <th>company_name</th>\n",
       "      <th>trips_amount</th>\n",
       "    </tr>\n",
       "  </thead>\n",
       "  <tbody>\n",
       "    <tr>\n",
       "      <th>42</th>\n",
       "      <td>1085 - 72312 N and W Cab Co</td>\n",
       "      <td>29</td>\n",
       "    </tr>\n",
       "    <tr>\n",
       "      <th>27</th>\n",
       "      <td>Service Taxi Association</td>\n",
       "      <td>402</td>\n",
       "    </tr>\n",
       "    <tr>\n",
       "      <th>22</th>\n",
       "      <td>Chicago Independents</td>\n",
       "      <td>1296</td>\n",
       "    </tr>\n",
       "    <tr>\n",
       "      <th>33</th>\n",
       "      <td>Metro Jet Taxi A</td>\n",
       "      <td>146</td>\n",
       "    </tr>\n",
       "    <tr>\n",
       "      <th>58</th>\n",
       "      <td>5062 - 34841 Sam Mestas</td>\n",
       "      <td>8</td>\n",
       "    </tr>\n",
       "  </tbody>\n",
       "</table>\n",
       "</div>"
      ],
      "text/plain": [
       "                   company_name  trips_amount\n",
       "42  1085 - 72312 N and W Cab Co            29\n",
       "27     Service Taxi Association           402\n",
       "22         Chicago Independents          1296\n",
       "33             Metro Jet Taxi A           146\n",
       "58      5062 - 34841 Sam Mestas             8"
      ]
     },
     "execution_count": 3,
     "metadata": {},
     "output_type": "execute_result"
    }
   ],
   "source": [
    "#memeriksa sample data\n",
    "trip_company.sample(5)"
   ]
  },
  {
   "cell_type": "code",
   "execution_count": 4,
   "metadata": {},
   "outputs": [
    {
     "data": {
      "text/html": [
       "<div>\n",
       "<style scoped>\n",
       "    .dataframe tbody tr th:only-of-type {\n",
       "        vertical-align: middle;\n",
       "    }\n",
       "\n",
       "    .dataframe tbody tr th {\n",
       "        vertical-align: top;\n",
       "    }\n",
       "\n",
       "    .dataframe thead th {\n",
       "        text-align: right;\n",
       "    }\n",
       "</style>\n",
       "<table border=\"1\" class=\"dataframe\">\n",
       "  <thead>\n",
       "    <tr style=\"text-align: right;\">\n",
       "      <th></th>\n",
       "      <th>dropoff_location_name</th>\n",
       "      <th>average_trips</th>\n",
       "    </tr>\n",
       "  </thead>\n",
       "  <tbody>\n",
       "    <tr>\n",
       "      <th>59</th>\n",
       "      <td>Chatham</td>\n",
       "      <td>23.200000</td>\n",
       "    </tr>\n",
       "    <tr>\n",
       "      <th>14</th>\n",
       "      <td>Near South Side</td>\n",
       "      <td>839.833333</td>\n",
       "    </tr>\n",
       "    <tr>\n",
       "      <th>45</th>\n",
       "      <td>Boystown</td>\n",
       "      <td>53.966667</td>\n",
       "    </tr>\n",
       "    <tr>\n",
       "      <th>86</th>\n",
       "      <td>West Elsdon</td>\n",
       "      <td>5.666667</td>\n",
       "    </tr>\n",
       "    <tr>\n",
       "      <th>8</th>\n",
       "      <td>Gold Coast</td>\n",
       "      <td>1364.233333</td>\n",
       "    </tr>\n",
       "  </tbody>\n",
       "</table>\n",
       "</div>"
      ],
      "text/plain": [
       "   dropoff_location_name  average_trips\n",
       "59               Chatham      23.200000\n",
       "14       Near South Side     839.833333\n",
       "45              Boystown      53.966667\n",
       "86           West Elsdon       5.666667\n",
       "8             Gold Coast    1364.233333"
      ]
     },
     "execution_count": 4,
     "metadata": {},
     "output_type": "execute_result"
    }
   ],
   "source": [
    "trip_end.sample(5)"
   ]
  },
  {
   "cell_type": "code",
   "execution_count": 5,
   "metadata": {},
   "outputs": [
    {
     "data": {
      "text/html": [
       "<div>\n",
       "<style scoped>\n",
       "    .dataframe tbody tr th:only-of-type {\n",
       "        vertical-align: middle;\n",
       "    }\n",
       "\n",
       "    .dataframe tbody tr th {\n",
       "        vertical-align: top;\n",
       "    }\n",
       "\n",
       "    .dataframe thead th {\n",
       "        text-align: right;\n",
       "    }\n",
       "</style>\n",
       "<table border=\"1\" class=\"dataframe\">\n",
       "  <thead>\n",
       "    <tr style=\"text-align: right;\">\n",
       "      <th></th>\n",
       "      <th>start_ts</th>\n",
       "      <th>weather_conditions</th>\n",
       "      <th>duration_seconds</th>\n",
       "    </tr>\n",
       "  </thead>\n",
       "  <tbody>\n",
       "    <tr>\n",
       "      <th>243</th>\n",
       "      <td>2017-11-11 05:00:00</td>\n",
       "      <td>Good</td>\n",
       "      <td>1320.0</td>\n",
       "    </tr>\n",
       "    <tr>\n",
       "      <th>536</th>\n",
       "      <td>2017-11-11 12:00:00</td>\n",
       "      <td>Good</td>\n",
       "      <td>2122.0</td>\n",
       "    </tr>\n",
       "    <tr>\n",
       "      <th>1033</th>\n",
       "      <td>2017-11-11 05:00:00</td>\n",
       "      <td>Good</td>\n",
       "      <td>1260.0</td>\n",
       "    </tr>\n",
       "    <tr>\n",
       "      <th>661</th>\n",
       "      <td>2017-11-11 10:00:00</td>\n",
       "      <td>Good</td>\n",
       "      <td>1465.0</td>\n",
       "    </tr>\n",
       "    <tr>\n",
       "      <th>990</th>\n",
       "      <td>2017-11-11 06:00:00</td>\n",
       "      <td>Good</td>\n",
       "      <td>1670.0</td>\n",
       "    </tr>\n",
       "  </tbody>\n",
       "</table>\n",
       "</div>"
      ],
      "text/plain": [
       "                 start_ts weather_conditions  duration_seconds\n",
       "243   2017-11-11 05:00:00               Good            1320.0\n",
       "536   2017-11-11 12:00:00               Good            2122.0\n",
       "1033  2017-11-11 05:00:00               Good            1260.0\n",
       "661   2017-11-11 10:00:00               Good            1465.0\n",
       "990   2017-11-11 06:00:00               Good            1670.0"
      ]
     },
     "execution_count": 5,
     "metadata": {},
     "output_type": "execute_result"
    }
   ],
   "source": [
    "trip_loop.sample(5)"
   ]
  },
  {
   "cell_type": "code",
   "execution_count": 6,
   "metadata": {},
   "outputs": [
    {
     "name": "stdout",
     "output_type": "stream",
     "text": [
      "<class 'pandas.core.frame.DataFrame'>\n",
      "RangeIndex: 64 entries, 0 to 63\n",
      "Data columns (total 2 columns):\n",
      " #   Column        Non-Null Count  Dtype \n",
      "---  ------        --------------  ----- \n",
      " 0   company_name  64 non-null     object\n",
      " 1   trips_amount  64 non-null     int64 \n",
      "dtypes: int64(1), object(1)\n",
      "memory usage: 1.1+ KB\n"
     ]
    }
   ],
   "source": [
    "#memeriksa tipe data\n",
    "trip_company.info()"
   ]
  },
  {
   "cell_type": "code",
   "execution_count": 7,
   "metadata": {},
   "outputs": [
    {
     "name": "stdout",
     "output_type": "stream",
     "text": [
      "<class 'pandas.core.frame.DataFrame'>\n",
      "RangeIndex: 94 entries, 0 to 93\n",
      "Data columns (total 2 columns):\n",
      " #   Column                 Non-Null Count  Dtype  \n",
      "---  ------                 --------------  -----  \n",
      " 0   dropoff_location_name  94 non-null     object \n",
      " 1   average_trips          94 non-null     float64\n",
      "dtypes: float64(1), object(1)\n",
      "memory usage: 1.6+ KB\n"
     ]
    }
   ],
   "source": [
    "trip_end.info()"
   ]
  },
  {
   "cell_type": "code",
   "execution_count": 8,
   "metadata": {},
   "outputs": [
    {
     "name": "stdout",
     "output_type": "stream",
     "text": [
      "<class 'pandas.core.frame.DataFrame'>\n",
      "RangeIndex: 1068 entries, 0 to 1067\n",
      "Data columns (total 3 columns):\n",
      " #   Column              Non-Null Count  Dtype  \n",
      "---  ------              --------------  -----  \n",
      " 0   start_ts            1068 non-null   object \n",
      " 1   weather_conditions  1068 non-null   object \n",
      " 2   duration_seconds    1068 non-null   float64\n",
      "dtypes: float64(1), object(2)\n",
      "memory usage: 25.2+ KB\n"
     ]
    }
   ],
   "source": [
    "trip_loop.info()"
   ]
  },
  {
   "cell_type": "markdown",
   "metadata": {},
   "source": [
    "Kolom `start_ts` terlihat memiliki tipe data object. Kita akan merubahnya dalam format datetime untuk memudahkan analisis data."
   ]
  },
  {
   "cell_type": "code",
   "execution_count": 9,
   "metadata": {
    "scrolled": true
   },
   "outputs": [
    {
     "name": "stdout",
     "output_type": "stream",
     "text": [
      "<class 'pandas.core.frame.DataFrame'>\n",
      "RangeIndex: 1068 entries, 0 to 1067\n",
      "Data columns (total 3 columns):\n",
      " #   Column              Non-Null Count  Dtype         \n",
      "---  ------              --------------  -----         \n",
      " 0   start_ts            1068 non-null   datetime64[ns]\n",
      " 1   weather_conditions  1068 non-null   object        \n",
      " 2   duration_seconds    1068 non-null   float64       \n",
      "dtypes: datetime64[ns](1), float64(1), object(1)\n",
      "memory usage: 25.2+ KB\n"
     ]
    }
   ],
   "source": [
    "#mengubah tipe data kolom start_ts menjadi datetime\n",
    "trip_loop['start_ts'] = pd.to_datetime(trip_loop['start_ts'], format='%Y-%m-%d %H:%M:%S')\n",
    "trip_loop.info()"
   ]
  },
  {
   "cell_type": "markdown",
   "metadata": {},
   "source": [
    "# Eksplorasi Data Analisis"
   ]
  },
  {
   "cell_type": "markdown",
   "metadata": {},
   "source": [
    "## Menganalisis 10 wilayah teratas yang titik pengantaran"
   ]
  },
  {
   "cell_type": "code",
   "execution_count": 10,
   "metadata": {},
   "outputs": [
    {
     "data": {
      "text/html": [
       "<div>\n",
       "<style scoped>\n",
       "    .dataframe tbody tr th:only-of-type {\n",
       "        vertical-align: middle;\n",
       "    }\n",
       "\n",
       "    .dataframe tbody tr th {\n",
       "        vertical-align: top;\n",
       "    }\n",
       "\n",
       "    .dataframe thead th {\n",
       "        text-align: right;\n",
       "    }\n",
       "</style>\n",
       "<table border=\"1\" class=\"dataframe\">\n",
       "  <thead>\n",
       "    <tr style=\"text-align: right;\">\n",
       "      <th></th>\n",
       "      <th>average_trips</th>\n",
       "      <th>dropoff_location_name</th>\n",
       "    </tr>\n",
       "    <tr>\n",
       "      <th>dropoff_location_name</th>\n",
       "      <th></th>\n",
       "      <th></th>\n",
       "    </tr>\n",
       "  </thead>\n",
       "  <tbody>\n",
       "    <tr>\n",
       "      <th>Loop</th>\n",
       "      <td>10727.466667</td>\n",
       "      <td>Loop</td>\n",
       "    </tr>\n",
       "    <tr>\n",
       "      <th>River North</th>\n",
       "      <td>9523.666667</td>\n",
       "      <td>River North</td>\n",
       "    </tr>\n",
       "    <tr>\n",
       "      <th>Streeterville</th>\n",
       "      <td>6664.666667</td>\n",
       "      <td>Streeterville</td>\n",
       "    </tr>\n",
       "    <tr>\n",
       "      <th>West Loop</th>\n",
       "      <td>5163.666667</td>\n",
       "      <td>West Loop</td>\n",
       "    </tr>\n",
       "    <tr>\n",
       "      <th>O'Hare</th>\n",
       "      <td>2546.900000</td>\n",
       "      <td>O'Hare</td>\n",
       "    </tr>\n",
       "    <tr>\n",
       "      <th>Lake View</th>\n",
       "      <td>2420.966667</td>\n",
       "      <td>Lake View</td>\n",
       "    </tr>\n",
       "    <tr>\n",
       "      <th>Grant Park</th>\n",
       "      <td>2068.533333</td>\n",
       "      <td>Grant Park</td>\n",
       "    </tr>\n",
       "    <tr>\n",
       "      <th>Museum Campus</th>\n",
       "      <td>1510.000000</td>\n",
       "      <td>Museum Campus</td>\n",
       "    </tr>\n",
       "    <tr>\n",
       "      <th>Gold Coast</th>\n",
       "      <td>1364.233333</td>\n",
       "      <td>Gold Coast</td>\n",
       "    </tr>\n",
       "    <tr>\n",
       "      <th>Sheffield &amp; DePaul</th>\n",
       "      <td>1259.766667</td>\n",
       "      <td>Sheffield &amp; DePaul</td>\n",
       "    </tr>\n",
       "  </tbody>\n",
       "</table>\n",
       "</div>"
      ],
      "text/plain": [
       "                       average_trips dropoff_location_name\n",
       "dropoff_location_name                                     \n",
       "Loop                    10727.466667                  Loop\n",
       "River North              9523.666667           River North\n",
       "Streeterville            6664.666667         Streeterville\n",
       "West Loop                5163.666667             West Loop\n",
       "O'Hare                   2546.900000                O'Hare\n",
       "Lake View                2420.966667             Lake View\n",
       "Grant Park               2068.533333            Grant Park\n",
       "Museum Campus            1510.000000         Museum Campus\n",
       "Gold Coast               1364.233333            Gold Coast\n",
       "Sheffield & DePaul       1259.766667    Sheffield & DePaul"
      ]
     },
     "execution_count": 10,
     "metadata": {},
     "output_type": "execute_result"
    }
   ],
   "source": [
    "#memeriksa 10 wilayah teratas yang dijadikan sebagai titik pengantaran\n",
    "top_dropoff = trip_end.pivot_table(index='dropoff_location_name', values='average_trips', aggfunc='mean').sort_values(by='average_trips', ascending=False).head(10)\n",
    "top_dropoff\n",
    "top_dropoff['dropoff_location_name'] = top_dropoff.index\n",
    "top_dropoff"
   ]
  },
  {
   "cell_type": "code",
   "execution_count": 11,
   "metadata": {},
   "outputs": [
    {
     "data": {
      "image/png": "[encoded data removed]",
      "text/plain": [
       "<Figure size 792x648 with 1 Axes>"
      ]
     },
     "metadata": {
      "needs_background": "light"
     },
     "output_type": "display_data"
    }
   ],
   "source": [
    "fig, ax = plt.subplots(figsize=(11, 9))\n",
    "splot = sns.barplot(data=top_dropoff, x='average_trips', y='dropoff_location_name', palette=\"dark:limegreen\", alpha=0.75)\n",
    "\n",
    "for p in splot.patches:\n",
    "    width = p.get_width()\n",
    "    plt.text(5+p.get_width(), p.get_y()+0.55*p.get_height(),\n",
    "             '{:1.2f}'.format(width),\n",
    "             ha='left', va='center')\n",
    "    \n",
    "ax.set_xlabel('jumlah perjalanan',fontdict={'size': 15})\n",
    "ax.set_ylabel('wilayah drop off',fontdict={'size': 15})\n",
    "plt.title('10 Wilayah Teratas Drop Off ',fontdict={'size': 20})\n",
    "plt.xticks(rotation = 0) \n",
    "plt.show()"
   ]
  },
  {
   "cell_type": "markdown",
   "metadata": {},
   "source": [
    "Dari hasil bar plot 10 Wilayah Teratas Drop Off, diketahui bahwa:\n",
    "\n",
    "* Terdapat 10 lokasi yang sering menjadi titik drop off para penumpang yaitu Loop,River North, Streeterville, West Loop, O'Hare, Lake View, Grant Park, Museum Campus, Gold Coast, Sheffield & DePaul"
   ]
  },
  {
   "cell_type": "markdown",
   "metadata": {},
   "source": [
    "## Menganalisis 10 perusahaan terpopuler"
   ]
  },
  {
   "cell_type": "code",
   "execution_count": 12,
   "metadata": {},
   "outputs": [
    {
     "data": {
      "text/html": [
       "<div>\n",
       "<style scoped>\n",
       "    .dataframe tbody tr th:only-of-type {\n",
       "        vertical-align: middle;\n",
       "    }\n",
       "\n",
       "    .dataframe tbody tr th {\n",
       "        vertical-align: top;\n",
       "    }\n",
       "\n",
       "    .dataframe thead th {\n",
       "        text-align: right;\n",
       "    }\n",
       "</style>\n",
       "<table border=\"1\" class=\"dataframe\">\n",
       "  <thead>\n",
       "    <tr style=\"text-align: right;\">\n",
       "      <th></th>\n",
       "      <th>trips_amount</th>\n",
       "    </tr>\n",
       "    <tr>\n",
       "      <th>company_name</th>\n",
       "      <th></th>\n",
       "    </tr>\n",
       "  </thead>\n",
       "  <tbody>\n",
       "    <tr>\n",
       "      <th>Flash Cab</th>\n",
       "      <td>19558</td>\n",
       "    </tr>\n",
       "    <tr>\n",
       "      <th>Taxi Affiliation Services</th>\n",
       "      <td>11422</td>\n",
       "    </tr>\n",
       "    <tr>\n",
       "      <th>Medallion Leasing</th>\n",
       "      <td>10367</td>\n",
       "    </tr>\n",
       "    <tr>\n",
       "      <th>Yellow Cab</th>\n",
       "      <td>9888</td>\n",
       "    </tr>\n",
       "    <tr>\n",
       "      <th>Taxi Affiliation Service Yellow</th>\n",
       "      <td>9299</td>\n",
       "    </tr>\n",
       "    <tr>\n",
       "      <th>...</th>\n",
       "      <td>...</td>\n",
       "    </tr>\n",
       "    <tr>\n",
       "      <th>4053 - 40193 Adwar H. Nikola</th>\n",
       "      <td>7</td>\n",
       "    </tr>\n",
       "    <tr>\n",
       "      <th>2733 - 74600 Benny Jona</th>\n",
       "      <td>7</td>\n",
       "    </tr>\n",
       "    <tr>\n",
       "      <th>5874 - 73628 Sergey Cab Corp.</th>\n",
       "      <td>5</td>\n",
       "    </tr>\n",
       "    <tr>\n",
       "      <th>2241 - 44667 - Felman Corp</th>\n",
       "      <td>3</td>\n",
       "    </tr>\n",
       "    <tr>\n",
       "      <th>3556 - 36214 RC Andrews Cab</th>\n",
       "      <td>2</td>\n",
       "    </tr>\n",
       "  </tbody>\n",
       "</table>\n",
       "<p>64 rows × 1 columns</p>\n",
       "</div>"
      ],
      "text/plain": [
       "                                 trips_amount\n",
       "company_name                                 \n",
       "Flash Cab                               19558\n",
       "Taxi Affiliation Services               11422\n",
       "Medallion Leasing                       10367\n",
       "Yellow Cab                               9888\n",
       "Taxi Affiliation Service Yellow          9299\n",
       "...                                       ...\n",
       "4053 - 40193 Adwar H. Nikola                7\n",
       "2733 - 74600 Benny Jona                     7\n",
       "5874 - 73628 Sergey Cab Corp.               5\n",
       "2241 - 44667 - Felman Corp                  3\n",
       "3556 - 36214 RC Andrews Cab                 2\n",
       "\n",
       "[64 rows x 1 columns]"
      ]
     },
     "execution_count": 12,
     "metadata": {},
     "output_type": "execute_result"
    }
   ],
   "source": [
    "#total perjalanan per perusahaan\n",
    "trip_company.pivot_table(index='company_name', values='trips_amount', aggfunc='sum').sort_values(by='trips_amount', ascending=False)"
   ]
  },
  {
   "cell_type": "code",
   "execution_count": 13,
   "metadata": {},
   "outputs": [
    {
     "data": {
      "image/png": "[encoded data removed]",
      "text/plain": [
       "<Figure size 792x648 with 1 Axes>"
      ]
     },
     "metadata": {
      "needs_background": "light"
     },
     "output_type": "display_data"
    }
   ],
   "source": [
    "#memvisualisasikan 20 data total perjalanan berdasarkan perusahaan\n",
    "\n",
    "fig, ax = plt.subplots(figsize=(11, 9))\n",
    "splot = sns.barplot(data=trip_company[0:9], x='trips_amount', y='company_name', palette=\"dark:limegreen\", alpha=0.75)\n",
    "\n",
    "for p in splot.patches:\n",
    "    width = p.get_width()\n",
    "    plt.text(5+p.get_width(), p.get_y()+0.55*p.get_height(),\n",
    "             '{:1.2f}'.format(width),\n",
    "             ha='left', va='center')\n",
    "    \n",
    "ax.set_xlabel('jumlah perjalanan',fontdict={'size': 15})\n",
    "ax.set_ylabel('perusahaan',fontdict={'size': 15})\n",
    "plt.title('Total perjalanan tiap perusahaan',fontdict={'size': 20})\n",
    "plt.xticks(rotation = 0) \n",
    "plt.show()"
   ]
  },
  {
   "cell_type": "markdown",
   "metadata": {},
   "source": [
    "Dari hasil pivot tabel dan bar plot Total perjalanan tiap perusahaan, diketahui bahwa:\n",
    "\n",
    "* **Flash cab** merupakan perusahaan taksi dengan jumlah perjalanan **terbanyak** yaitu 19558 dan perusahaan yang **kurang diminati** yaitu **3556 - 36214 RC Andrews Cab** yang hanya memiliki 2 perjalanan\t\n",
    "* Selisih jumlah perjalanan perusahaan **Flash Cab** dengan perusahaan-perusahaan di bawahnya relatif cukup jauh "
   ]
  },
  {
   "cell_type": "markdown",
   "metadata": {},
   "source": [
    "# Analisa Data Statistik"
   ]
  },
  {
   "cell_type": "markdown",
   "metadata": {},
   "source": [
    "## Durasi rata-rata perjalanan dari Loop ke Bandara Internasional O'Hare berubah pada hari-hari Sabtu yang hujan"
   ]
  },
  {
   "cell_type": "code",
   "execution_count": 14,
   "metadata": {},
   "outputs": [
    {
     "data": {
      "text/html": [
       "<div>\n",
       "<style scoped>\n",
       "    .dataframe tbody tr th:only-of-type {\n",
       "        vertical-align: middle;\n",
       "    }\n",
       "\n",
       "    .dataframe tbody tr th {\n",
       "        vertical-align: top;\n",
       "    }\n",
       "\n",
       "    .dataframe thead th {\n",
       "        text-align: right;\n",
       "    }\n",
       "</style>\n",
       "<table border=\"1\" class=\"dataframe\">\n",
       "  <thead>\n",
       "    <tr style=\"text-align: right;\">\n",
       "      <th></th>\n",
       "      <th>start_ts</th>\n",
       "      <th>weather_conditions</th>\n",
       "      <th>duration_seconds</th>\n",
       "    </tr>\n",
       "  </thead>\n",
       "  <tbody>\n",
       "    <tr>\n",
       "      <th>0</th>\n",
       "      <td>2017-11-25 16:00:00</td>\n",
       "      <td>Good</td>\n",
       "      <td>2410.0</td>\n",
       "    </tr>\n",
       "    <tr>\n",
       "      <th>1</th>\n",
       "      <td>2017-11-25 14:00:00</td>\n",
       "      <td>Good</td>\n",
       "      <td>1920.0</td>\n",
       "    </tr>\n",
       "    <tr>\n",
       "      <th>2</th>\n",
       "      <td>2017-11-25 12:00:00</td>\n",
       "      <td>Good</td>\n",
       "      <td>1543.0</td>\n",
       "    </tr>\n",
       "    <tr>\n",
       "      <th>3</th>\n",
       "      <td>2017-11-04 10:00:00</td>\n",
       "      <td>Good</td>\n",
       "      <td>2512.0</td>\n",
       "    </tr>\n",
       "    <tr>\n",
       "      <th>4</th>\n",
       "      <td>2017-11-11 07:00:00</td>\n",
       "      <td>Good</td>\n",
       "      <td>1440.0</td>\n",
       "    </tr>\n",
       "    <tr>\n",
       "      <th>...</th>\n",
       "      <td>...</td>\n",
       "      <td>...</td>\n",
       "      <td>...</td>\n",
       "    </tr>\n",
       "    <tr>\n",
       "      <th>1062</th>\n",
       "      <td>2017-11-11 06:00:00</td>\n",
       "      <td>Good</td>\n",
       "      <td>1500.0</td>\n",
       "    </tr>\n",
       "    <tr>\n",
       "      <th>1063</th>\n",
       "      <td>2017-11-25 11:00:00</td>\n",
       "      <td>Good</td>\n",
       "      <td>0.0</td>\n",
       "    </tr>\n",
       "    <tr>\n",
       "      <th>1064</th>\n",
       "      <td>2017-11-11 10:00:00</td>\n",
       "      <td>Good</td>\n",
       "      <td>1318.0</td>\n",
       "    </tr>\n",
       "    <tr>\n",
       "      <th>1065</th>\n",
       "      <td>2017-11-11 13:00:00</td>\n",
       "      <td>Good</td>\n",
       "      <td>2100.0</td>\n",
       "    </tr>\n",
       "    <tr>\n",
       "      <th>1066</th>\n",
       "      <td>2017-11-11 08:00:00</td>\n",
       "      <td>Good</td>\n",
       "      <td>1380.0</td>\n",
       "    </tr>\n",
       "  </tbody>\n",
       "</table>\n",
       "<p>888 rows × 3 columns</p>\n",
       "</div>"
      ],
      "text/plain": [
       "                start_ts weather_conditions  duration_seconds\n",
       "0    2017-11-25 16:00:00               Good            2410.0\n",
       "1    2017-11-25 14:00:00               Good            1920.0\n",
       "2    2017-11-25 12:00:00               Good            1543.0\n",
       "3    2017-11-04 10:00:00               Good            2512.0\n",
       "4    2017-11-11 07:00:00               Good            1440.0\n",
       "...                  ...                ...               ...\n",
       "1062 2017-11-11 06:00:00               Good            1500.0\n",
       "1063 2017-11-25 11:00:00               Good               0.0\n",
       "1064 2017-11-11 10:00:00               Good            1318.0\n",
       "1065 2017-11-11 13:00:00               Good            2100.0\n",
       "1066 2017-11-11 08:00:00               Good            1380.0\n",
       "\n",
       "[888 rows x 3 columns]"
      ]
     },
     "execution_count": 14,
     "metadata": {},
     "output_type": "execute_result"
    }
   ],
   "source": [
    "#mengiris data cuaca hujan dan cerah\n",
    "good_weather = trip_loop.query('weather_conditions == \"Good\"')\n",
    "good_weather"
   ]
  },
  {
   "cell_type": "code",
   "execution_count": 15,
   "metadata": {},
   "outputs": [
    {
     "data": {
      "text/html": [
       "<div>\n",
       "<style scoped>\n",
       "    .dataframe tbody tr th:only-of-type {\n",
       "        vertical-align: middle;\n",
       "    }\n",
       "\n",
       "    .dataframe tbody tr th {\n",
       "        vertical-align: top;\n",
       "    }\n",
       "\n",
       "    .dataframe thead th {\n",
       "        text-align: right;\n",
       "    }\n",
       "</style>\n",
       "<table border=\"1\" class=\"dataframe\">\n",
       "  <thead>\n",
       "    <tr style=\"text-align: right;\">\n",
       "      <th></th>\n",
       "      <th>start_ts</th>\n",
       "      <th>weather_conditions</th>\n",
       "      <th>duration_seconds</th>\n",
       "    </tr>\n",
       "  </thead>\n",
       "  <tbody>\n",
       "    <tr>\n",
       "      <th>6</th>\n",
       "      <td>2017-11-04 16:00:00</td>\n",
       "      <td>Bad</td>\n",
       "      <td>2969.0</td>\n",
       "    </tr>\n",
       "    <tr>\n",
       "      <th>30</th>\n",
       "      <td>2017-11-18 12:00:00</td>\n",
       "      <td>Bad</td>\n",
       "      <td>1980.0</td>\n",
       "    </tr>\n",
       "    <tr>\n",
       "      <th>34</th>\n",
       "      <td>2017-11-04 17:00:00</td>\n",
       "      <td>Bad</td>\n",
       "      <td>2460.0</td>\n",
       "    </tr>\n",
       "    <tr>\n",
       "      <th>51</th>\n",
       "      <td>2017-11-04 16:00:00</td>\n",
       "      <td>Bad</td>\n",
       "      <td>2760.0</td>\n",
       "    </tr>\n",
       "    <tr>\n",
       "      <th>52</th>\n",
       "      <td>2017-11-18 12:00:00</td>\n",
       "      <td>Bad</td>\n",
       "      <td>2460.0</td>\n",
       "    </tr>\n",
       "    <tr>\n",
       "      <th>...</th>\n",
       "      <td>...</td>\n",
       "      <td>...</td>\n",
       "      <td>...</td>\n",
       "    </tr>\n",
       "    <tr>\n",
       "      <th>1031</th>\n",
       "      <td>2017-11-18 12:00:00</td>\n",
       "      <td>Bad</td>\n",
       "      <td>2560.0</td>\n",
       "    </tr>\n",
       "    <tr>\n",
       "      <th>1032</th>\n",
       "      <td>2017-11-18 10:00:00</td>\n",
       "      <td>Bad</td>\n",
       "      <td>1908.0</td>\n",
       "    </tr>\n",
       "    <tr>\n",
       "      <th>1053</th>\n",
       "      <td>2017-11-18 12:00:00</td>\n",
       "      <td>Bad</td>\n",
       "      <td>2400.0</td>\n",
       "    </tr>\n",
       "    <tr>\n",
       "      <th>1061</th>\n",
       "      <td>2017-11-18 16:00:00</td>\n",
       "      <td>Bad</td>\n",
       "      <td>2186.0</td>\n",
       "    </tr>\n",
       "    <tr>\n",
       "      <th>1067</th>\n",
       "      <td>2017-11-04 16:00:00</td>\n",
       "      <td>Bad</td>\n",
       "      <td>2834.0</td>\n",
       "    </tr>\n",
       "  </tbody>\n",
       "</table>\n",
       "<p>180 rows × 3 columns</p>\n",
       "</div>"
      ],
      "text/plain": [
       "                start_ts weather_conditions  duration_seconds\n",
       "6    2017-11-04 16:00:00                Bad            2969.0\n",
       "30   2017-11-18 12:00:00                Bad            1980.0\n",
       "34   2017-11-04 17:00:00                Bad            2460.0\n",
       "51   2017-11-04 16:00:00                Bad            2760.0\n",
       "52   2017-11-18 12:00:00                Bad            2460.0\n",
       "...                  ...                ...               ...\n",
       "1031 2017-11-18 12:00:00                Bad            2560.0\n",
       "1032 2017-11-18 10:00:00                Bad            1908.0\n",
       "1053 2017-11-18 12:00:00                Bad            2400.0\n",
       "1061 2017-11-18 16:00:00                Bad            2186.0\n",
       "1067 2017-11-04 16:00:00                Bad            2834.0\n",
       "\n",
       "[180 rows x 3 columns]"
      ]
     },
     "execution_count": 15,
     "metadata": {},
     "output_type": "execute_result"
    }
   ],
   "source": [
    "bad_weather = trip_loop.query('weather_conditions == \"Bad\"')\n",
    "bad_weather"
   ]
  },
  {
   "cell_type": "markdown",
   "metadata": {},
   "source": [
    "Sebelum melakukan uji hipotesis, kita akan menguji apakah varians antara kedua sampel sama atau tidak dengan menggunakan uji levene"
   ]
  },
  {
   "cell_type": "code",
   "execution_count": 16,
   "metadata": {},
   "outputs": [
    {
     "data": {
      "text/plain": [
       "LeveneResult(statistic=0.38853489683656073, pvalue=0.5332038671974493)"
      ]
     },
     "execution_count": 16,
     "metadata": {},
     "output_type": "execute_result"
    }
   ],
   "source": [
    "#uji levene\n",
    "\n",
    "st.levene(good_weather['duration_seconds'], bad_weather['duration_seconds'])"
   ]
  },
  {
   "cell_type": "markdown",
   "metadata": {},
   "source": [
    "Dikarenakan p-value nya > dari nilai alpha yang akan digunakan (0.05) maka varians antara kedua sample akan dianggap sama\n",
    "\n",
    "**H0** =  Durasi rata-rata perjalanan dari Loop ke Bandara Internasional O'Hare pada hari-hari Sabtu yang hujan adalah **sama**\n",
    "\n",
    "**H1** = Durasi rata-rata perjalanan dari Loop ke Bandara Internasional O'Hare **berubah** pada hari-hari Sabtu yang hujan "
   ]
  },
  {
   "cell_type": "code",
   "execution_count": 17,
   "metadata": {},
   "outputs": [
    {
     "name": "stdout",
     "output_type": "stream",
     "text": [
      "p-value:  6.517970327099473e-12\n",
      "Kita menolak hipotesis nol\n"
     ]
    }
   ],
   "source": [
    "# Uji hipotesisnya\n",
    "\n",
    "alpha = 0.05\n",
    "results = st.ttest_ind(good_weather['duration_seconds'], bad_weather['duration_seconds'],equal_var=True)\n",
    "print('p-value: ', results.pvalue)\n",
    "\n",
    "if (results.pvalue < alpha): \n",
    "    print('Kita menolak hipotesis nol')\n",
    "else:\n",
    "    print(\"Kita tidak dapat menolak hipotesis nol\")"
   ]
  },
  {
   "cell_type": "markdown",
   "metadata": {},
   "source": [
    "Kesimpulan:\n",
    "\n",
    "Hasil uji hipotesis menyatakan bahwa kita tidak bisa menolak hipotesis bahwa durasi rata-rata perjalanan dari Loop ke Bandara Internasional O'Hare berubah pada hari-hari Sabtu yang hujan adalah berbeda"
   ]
  },
  {
   "cell_type": "markdown",
   "metadata": {},
   "source": [
    "# Kesimpulan Umum"
   ]
  },
  {
   "cell_type": "markdown",
   "metadata": {},
   "source": [
    "Kesimpulan dari keseluruhan proyek ini yaitu:\n",
    "\n",
    "1. Eksplorasi Data Analisis:\n",
    "\n",
    "* Tidak ada data yang terduplikasi maupun nilai hilang\n",
    "* Kolom `start_ts` memiliki tipe data object sehingga harus diubah dalam format datetime \n",
    "* Terdapat 10 lokasi yang sering menjadi titik drop off para penumpang dengan **Loop** menjadi daerah dengan jumlah **drop off tertinggi** dengan rata-rata sebesar 10727.466667\n",
    "* **Flash cab** merupakan perusahaan taksi dengan jumlah **perjalanan terbanyak** yaitu **19558** dan perusahaan yang **kurang diminati** yaitu **3556 - 36214 RC Andrews Cab** yang hanya memiliki **2 perjalanan**\n",
    "* Selisih jumlah perjalanan perusahaan Flash Cab dengan perusahaan-perusahaan di bawahnya relatif cukup jauh\n",
    "\n",
    "2. Analisa Data Statistik\n",
    "\n",
    "**Terdapat perbedaan** durasi **rata-rata perjalanan** dari Loop ke Bandara Internasional O'Hare pada hari-hari **Sabtu yang hujan**"
   ]
  },
  {
   "cell_type": "code",
   "execution_count": null,
   "metadata": {},
   "outputs": [],
   "source": []
  }
 ],
 "metadata": {
  "kernelspec": {
   "display_name": "Python 3 (ipykernel)",
   "language": "python",
   "name": "python3"
  },
  "language_info": {
   "codemirror_mode": {
    "name": "ipython",
    "version": 3
   },
   "file_extension": ".py",
   "mimetype": "text/x-python",
   "name": "python",
   "nbconvert_exporter": "python",
   "pygments_lexer": "ipython3",
   "version": "3.9.5"
  },
  "toc": {
   "base_numbering": 1,
   "nav_menu": {},
   "number_sections": true,
   "sideBar": true,
   "skip_h1_title": false,
   "title_cell": "Table of Contents",
   "title_sidebar": "Contents",
   "toc_cell": false,
   "toc_position": {
    "height": "calc(100% - 180px)",
    "left": "10px",
    "top": "150px",
    "width": "261px"
   },
   "toc_section_display": true,
   "toc_window_display": false
  }
 },
 "nbformat": 4,
 "nbformat_minor": 2
}
